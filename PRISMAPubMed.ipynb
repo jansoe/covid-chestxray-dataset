{
  "nbformat": 4,
  "nbformat_minor": 0,
  "metadata": {
    "colab": {
      "name": " PRISMAPubMed.ipynb",
      "provenance": [],
      "collapsed_sections": [],
      "authorship_tag": "ABX9TyNSTl+oj3azbXERfoHa9VK4",
      "include_colab_link": true
    },
    "kernelspec": {
      "name": "python3",
      "display_name": "Python 3"
    },
    "language_info": {
      "name": "python"
    }
  },
  "cells": [
    {
      "cell_type": "markdown",
      "metadata": {
        "id": "view-in-github",
        "colab_type": "text"
      },
      "source": [
        "<a href=\"https://colab.research.google.com/github/jansoe/covid-chestxray-dataset/blob/master/PRISMAPubMed.ipynb\" target=\"_parent\"><img src=\"https://colab.research.google.com/assets/colab-badge.svg\" alt=\"Open In Colab\"/></a>"
      ]
    },
    {
      "cell_type": "markdown",
      "metadata": {
        "id": "4O5aSIVzf9kJ"
      },
      "source": [
        "# PubMed Scraping"
      ]
    },
    {
      "cell_type": "markdown",
      "metadata": {
        "id": "2xug8C9nf4na"
      },
      "source": [
        "## Imports"
      ]
    },
    {
      "cell_type": "code",
      "metadata": {
        "id": "3wndSJ9y_bWz"
      },
      "source": [
        "import requests\n",
        "from bs4 import BeautifulSoup as bs\n",
        "\n",
        "import pandas as pd\n",
        "import numpy as np\n",
        "\n",
        "import collections\n",
        "import time"
      ],
      "execution_count": 1,
      "outputs": []
    },
    {
      "cell_type": "markdown",
      "metadata": {
        "id": "D-tpMKp5gFvl"
      },
      "source": [
        "#### Google authorization"
      ]
    },
    {
      "cell_type": "code",
      "metadata": {
        "id": "v66UbckX_MLp"
      },
      "source": [
        "from google.colab import auth\n",
        "auth.authenticate_user()"
      ],
      "execution_count": 4,
      "outputs": []
    },
    {
      "cell_type": "code",
      "metadata": {
        "id": "E-qEhB_U_Kil"
      },
      "source": [
        "import gspread\n",
        "from oauth2client.client import GoogleCredentials"
      ],
      "execution_count": 5,
      "outputs": []
    },
    {
      "cell_type": "markdown",
      "metadata": {
        "id": "_OpeocREfvQT"
      },
      "source": [
        "#### PubMed scraping functions"
      ]
    },
    {
      "cell_type": "code",
      "metadata": {
        "colab": {
          "base_uri": "https://localhost:8080/"
        },
        "id": "KrrAGh5QKtMv",
        "outputId": "6750ceb1-6fec-41b0-e99a-88b8d9b2c9ba"
      },
      "source": [
        "!pip install biopython\n",
        "\n",
        "from Bio import Entrez\n",
        "\n",
        "def search(query):\n",
        "    Entrez.email = 'jan.soelterl@uni.lu'\n",
        "    handle = Entrez.esearch(\n",
        "        db='pubmed', \n",
        "        sort='relevance', \n",
        "        retmax='500',\n",
        "        retmode='xml', \n",
        "        term=query\n",
        "    )\n",
        "    results = Entrez.read(handle)\n",
        "    return results\n",
        "\n",
        "def fetch_details(id_list):\n",
        "    ids = ','.join(id_list)\n",
        "    Entrez.email = 'jan.soelterl@uni.lu'\n",
        "    handle = Entrez.efetch(\n",
        "        db='pubmed',\n",
        "        retmode='xml',\n",
        "        id=ids\n",
        "    )\n",
        "    results = Entrez.read(handle)\n",
        "    return results"
      ],
      "execution_count": 6,
      "outputs": [
        {
          "output_type": "stream",
          "text": [
            "Collecting biopython\n",
            "\u001b[?25l  Downloading https://files.pythonhosted.org/packages/3a/cd/0098eaff841850c01da928c7f509b72fd3e1f51d77b772e24de9e2312471/biopython-1.78-cp37-cp37m-manylinux1_x86_64.whl (2.3MB)\n",
            "\u001b[K     |████████████████████████████████| 2.3MB 2.8MB/s \n",
            "\u001b[?25hRequirement already satisfied: numpy in /usr/local/lib/python3.7/dist-packages (from biopython) (1.19.5)\n",
            "Installing collected packages: biopython\n",
            "Successfully installed biopython-1.78\n"
          ],
          "name": "stdout"
        }
      ]
    },
    {
      "cell_type": "markdown",
      "metadata": {
        "id": "YTaIU8FvgJNg"
      },
      "source": [
        "## Identification"
      ]
    },
    {
      "cell_type": "code",
      "metadata": {
        "colab": {
          "base_uri": "https://localhost:8080/"
        },
        "id": "FPfe4WanK2oC",
        "outputId": "fa2f2987-f467-4345-b43e-13dc250ce2cc"
      },
      "source": [
        "terms = [\n",
        "  'covid AND x-ray AND dataset',\n",
        "  'covid AND x-ray AND data set',\n",
        "  'covid AND x-ray AND machine learning',\n",
        "  'covid AND x-ray AND deep learning',\n",
        "  'covid-19 AND x-ray AND dataset',\n",
        "  'covid-19 AND x-ray AND data set',\n",
        "  'covid-19 AND x-ray AND machine learning',\n",
        "  'covid-19 AND x-ray AND deep learning'\n",
        "]\n",
        "\n",
        "known_ids = set()\n",
        "id_list = {}\n",
        "for term in terms:\n",
        "    results = search(term)\n",
        "    obtained_ids = set(results['IdList'])\n",
        "    new_ids = obtained_ids.difference(known_ids)\n",
        "    print(f'{len(new_ids)} out of {len(obtained_ids)} newly added by {term}')\n",
        "    if len(new_ids)>0:\n",
        "        id_list[term] = new_ids\n",
        "    known_ids = known_ids.union(new_ids)"
      ],
      "execution_count": 7,
      "outputs": [
        {
          "output_type": "stream",
          "text": [
            "189 out of 189 newly added by covid AND x-ray AND dataset\n",
            "20 out of 41 newly added by covid AND x-ray AND data set\n",
            "170 out of 275 newly added by covid AND x-ray AND machine learning\n",
            "85 out of 360 newly added by covid AND x-ray AND deep learning\n",
            "8 out of 196 newly added by covid-19 AND x-ray AND dataset\n",
            "1 out of 42 newly added by covid-19 AND x-ray AND data set\n",
            "3 out of 280 newly added by covid-19 AND x-ray AND machine learning\n",
            "3 out of 366 newly added by covid-19 AND x-ray AND deep learning\n"
          ],
          "name": "stdout"
        }
      ]
    },
    {
      "cell_type": "markdown",
      "metadata": {
        "id": "lt0SHQMxgPb6"
      },
      "source": [
        "#### Paper details"
      ]
    },
    {
      "cell_type": "code",
      "metadata": {
        "id": "2SxClHhMK2rC"
      },
      "source": [
        "info = []\n",
        "\n",
        "for term, ids in id_list.items():\n",
        "    papers = fetch_details(ids)\n",
        "\n",
        "    for paper in papers['PubmedArticle']:\n",
        "        data = {'term': term}\n",
        "        #if not 'eng' in paper['MedlineCitation']['Article']['Language']:\n",
        "        #    print(f\"skipped not english {paper['MedlineCitation']['Article']['ArticleTitle']}\")\n",
        "        #    continue\n",
        "        for id in paper['MedlineCitation']['Article']['ELocationID']:\n",
        "            if id.attributes['EIdType'] == 'doi':\n",
        "                data['doi'] = str(id)\n",
        "        data['title'] = paper['MedlineCitation']['Article']['ArticleTitle']\n",
        "        data['status'] = paper['PubmedData']['PublicationStatus']\n",
        "        data['PMID'] = [int(i) for i in paper['PubmedData']['ArticleIdList'] if i.attributes['IdType'] == 'pubmed'][0]\n",
        "\n",
        "        # get article date\n",
        "        date = paper['MedlineCitation']['Article']['ArticleDate']\n",
        "        assert len(date) < 2\n",
        "        \n",
        "        # get publication date if article date not available\n",
        "        if len(date) == 0:\n",
        "            y = int(paper['MedlineCitation']['Article']['Journal']['JournalIssue']['PubDate']['Year'])\n",
        "            m = paper['MedlineCitation']['Article']['Journal']['JournalIssue']['PubDate'].get('Month', 0)\n",
        "            if type(m) == Entrez.Parser.StringElement:\n",
        "                if m.isnumeric():\n",
        "                    m = int(m)\n",
        "                else:\n",
        "                    m = ['Jan', 'Feb', 'Mar', 'Apr', 'May', 'Jun', 'Jul', 'Aug', 'Sep', 'Oct', 'Nov', 'Dez'].index(m) + 1\n",
        "            d = 'Journal'\n",
        "        else:\n",
        "            y = int(date[0]['Year'])\n",
        "            m = int(date[0]['Month'])\n",
        "            d = date[0].attributes['DateType']\n",
        "        data['year'] = y\n",
        "        data['month'] = m\n",
        "        data['datetype'] = d\n",
        "\n",
        "        info.append(data)"
      ],
      "execution_count": 8,
      "outputs": []
    },
    {
      "cell_type": "markdown",
      "metadata": {
        "id": "OgD18VcxgSbq"
      },
      "source": [
        "#### Set time intervall "
      ]
    },
    {
      "cell_type": "code",
      "metadata": {
        "id": "54cZyoEXK2tj"
      },
      "source": [
        "identified = pd.DataFrame(info).sort_values(by=['year', 'month'])\n",
        "identified = identified[identified.year > 2019]\n",
        "identified = identified[np.logical_or((identified.year != 2021), (identified.month < 4))]\n",
        "identified['doi_link'] = identified.doi.apply(lambda x: 'https://doi.org/' + str(x))\n",
        "identified.doi = identified.doi.fillna('')"
      ],
      "execution_count": 9,
      "outputs": []
    },
    {
      "cell_type": "code",
      "metadata": {
        "colab": {
          "base_uri": "https://localhost:8080/",
          "height": 270
        },
        "id": "igUr-Av644TB",
        "outputId": "d76410cb-dff3-4bc8-bb02-fa682d25a12d"
      },
      "source": [
        "display(identified.head(3))\n",
        "display(identified.tail(3))"
      ],
      "execution_count": 10,
      "outputs": [
        {
          "output_type": "display_data",
          "data": {
            "text/html": [
              "<div>\n",
              "<style scoped>\n",
              "    .dataframe tbody tr th:only-of-type {\n",
              "        vertical-align: middle;\n",
              "    }\n",
              "\n",
              "    .dataframe tbody tr th {\n",
              "        vertical-align: top;\n",
              "    }\n",
              "\n",
              "    .dataframe thead th {\n",
              "        text-align: right;\n",
              "    }\n",
              "</style>\n",
              "<table border=\"1\" class=\"dataframe\">\n",
              "  <thead>\n",
              "    <tr style=\"text-align: right;\">\n",
              "      <th></th>\n",
              "      <th>term</th>\n",
              "      <th>doi</th>\n",
              "      <th>title</th>\n",
              "      <th>status</th>\n",
              "      <th>PMID</th>\n",
              "      <th>year</th>\n",
              "      <th>month</th>\n",
              "      <th>datetype</th>\n",
              "      <th>doi_link</th>\n",
              "    </tr>\n",
              "  </thead>\n",
              "  <tbody>\n",
              "    <tr>\n",
              "      <th>31</th>\n",
              "      <td>covid AND x-ray AND dataset</td>\n",
              "      <td>10.3233/XST-200715</td>\n",
              "      <td>Identification of COVID-19 samples from chest ...</td>\n",
              "      <td>ppublish</td>\n",
              "      <td>32773400</td>\n",
              "      <td>2020</td>\n",
              "      <td>0</td>\n",
              "      <td>Journal</td>\n",
              "      <td>https://doi.org/10.3233/XST-200715</td>\n",
              "    </tr>\n",
              "    <tr>\n",
              "      <th>112</th>\n",
              "      <td>covid AND x-ray AND dataset</td>\n",
              "      <td>10.3233/XST-200720</td>\n",
              "      <td>Detection of coronavirus disease from X-ray im...</td>\n",
              "      <td>ppublish</td>\n",
              "      <td>32804113</td>\n",
              "      <td>2020</td>\n",
              "      <td>0</td>\n",
              "      <td>Journal</td>\n",
              "      <td>https://doi.org/10.3233/XST-200720</td>\n",
              "    </tr>\n",
              "    <tr>\n",
              "      <th>173</th>\n",
              "      <td>covid AND x-ray AND dataset</td>\n",
              "      <td>10.3233/XST-200689</td>\n",
              "      <td>Differentiating pneumonia with and without COV...</td>\n",
              "      <td>ppublish</td>\n",
              "      <td>32568167</td>\n",
              "      <td>2020</td>\n",
              "      <td>0</td>\n",
              "      <td>Journal</td>\n",
              "      <td>https://doi.org/10.3233/XST-200689</td>\n",
              "    </tr>\n",
              "  </tbody>\n",
              "</table>\n",
              "</div>"
            ],
            "text/plain": [
              "                            term  ...                            doi_link\n",
              "31   covid AND x-ray AND dataset  ...  https://doi.org/10.3233/XST-200715\n",
              "112  covid AND x-ray AND dataset  ...  https://doi.org/10.3233/XST-200720\n",
              "173  covid AND x-ray AND dataset  ...  https://doi.org/10.3233/XST-200689\n",
              "\n",
              "[3 rows x 9 columns]"
            ]
          },
          "metadata": {
            "tags": []
          }
        },
        {
          "output_type": "display_data",
          "data": {
            "text/html": [
              "<div>\n",
              "<style scoped>\n",
              "    .dataframe tbody tr th:only-of-type {\n",
              "        vertical-align: middle;\n",
              "    }\n",
              "\n",
              "    .dataframe tbody tr th {\n",
              "        vertical-align: top;\n",
              "    }\n",
              "\n",
              "    .dataframe thead th {\n",
              "        text-align: right;\n",
              "    }\n",
              "</style>\n",
              "<table border=\"1\" class=\"dataframe\">\n",
              "  <thead>\n",
              "    <tr style=\"text-align: right;\">\n",
              "      <th></th>\n",
              "      <th>term</th>\n",
              "      <th>doi</th>\n",
              "      <th>title</th>\n",
              "      <th>status</th>\n",
              "      <th>PMID</th>\n",
              "      <th>year</th>\n",
              "      <th>month</th>\n",
              "      <th>datetype</th>\n",
              "      <th>doi_link</th>\n",
              "    </tr>\n",
              "  </thead>\n",
              "  <tbody>\n",
              "    <tr>\n",
              "      <th>435</th>\n",
              "      <td>covid AND x-ray AND deep learning</td>\n",
              "      <td>10.1016/j.compbiomed.2021.104356</td>\n",
              "      <td>An automated COVID-19 detection based on fused...</td>\n",
              "      <td>ppublish</td>\n",
              "      <td>33799219</td>\n",
              "      <td>2021</td>\n",
              "      <td>3</td>\n",
              "      <td>Electronic</td>\n",
              "      <td>https://doi.org/10.1016/j.compbiomed.2021.104356</td>\n",
              "    </tr>\n",
              "    <tr>\n",
              "      <th>442</th>\n",
              "      <td>covid AND x-ray AND deep learning</td>\n",
              "      <td>10.1016/j.asoc.2021.107330</td>\n",
              "      <td>Federated learning for COVID-19 screening from...</td>\n",
              "      <td>ppublish</td>\n",
              "      <td>33776607</td>\n",
              "      <td>2021</td>\n",
              "      <td>3</td>\n",
              "      <td>Electronic</td>\n",
              "      <td>https://doi.org/10.1016/j.asoc.2021.107330</td>\n",
              "    </tr>\n",
              "    <tr>\n",
              "      <th>459</th>\n",
              "      <td>covid AND x-ray AND deep learning</td>\n",
              "      <td>10.1038/s41598-021-85694-5</td>\n",
              "      <td>Generalized chest CT and lab curves throughout...</td>\n",
              "      <td>epublish</td>\n",
              "      <td>33767213</td>\n",
              "      <td>2021</td>\n",
              "      <td>3</td>\n",
              "      <td>Electronic</td>\n",
              "      <td>https://doi.org/10.1038/s41598-021-85694-5</td>\n",
              "    </tr>\n",
              "  </tbody>\n",
              "</table>\n",
              "</div>"
            ],
            "text/plain": [
              "                                  term  ...                                          doi_link\n",
              "435  covid AND x-ray AND deep learning  ...  https://doi.org/10.1016/j.compbiomed.2021.104356\n",
              "442  covid AND x-ray AND deep learning  ...        https://doi.org/10.1016/j.asoc.2021.107330\n",
              "459  covid AND x-ray AND deep learning  ...        https://doi.org/10.1038/s41598-021-85694-5\n",
              "\n",
              "[3 rows x 9 columns]"
            ]
          },
          "metadata": {
            "tags": []
          }
        }
      ]
    },
    {
      "cell_type": "markdown",
      "metadata": {
        "id": "rOl0z0vkgaht"
      },
      "source": [
        "## Screening step"
      ]
    },
    {
      "cell_type": "markdown",
      "metadata": {
        "id": "0CEtUHRygc9y"
      },
      "source": [
        "#### Load manual annotation"
      ]
    },
    {
      "cell_type": "code",
      "metadata": {
        "id": "_av1izhssqf8"
      },
      "source": [
        "gc = gspread.authorize(GoogleCredentials.get_application_default())\n",
        "worksheet = gc.open('DatasetScraping').worksheet('PubmedPaper')\n",
        "\n",
        "rows = worksheet.get_all_values()\n",
        "manual_annotated = pd.DataFrame.from_records(rows[1:], columns=rows[0])\n",
        "manual_annotated['done'] = True"
      ],
      "execution_count": 29,
      "outputs": []
    },
    {
      "cell_type": "code",
      "metadata": {
        "id": "s4a-oNF35zZB"
      },
      "source": [
        "annotated = pd.merge(\n",
        "    identified, \n",
        "    manual_annotated[['doi', 'month_manual', 'relevant', 'extracted datasets', 'done']], #'title',\n",
        "    on=['doi'], #, 'title'], #apperently title changes sometimes post-publication \n",
        "    how='left'\n",
        ")"
      ],
      "execution_count": 30,
      "outputs": []
    },
    {
      "cell_type": "markdown",
      "metadata": {
        "id": "OIgX1mbwgkL_"
      },
      "source": [
        "#### Check if all scraped data is already annotated"
      ]
    },
    {
      "cell_type": "code",
      "metadata": {
        "id": "J9WOZe__8hMM"
      },
      "source": [
        "non_annotated = annotated[annotated.done.isnull()]"
      ],
      "execution_count": 31,
      "outputs": []
    },
    {
      "cell_type": "code",
      "metadata": {
        "colab": {
          "base_uri": "https://localhost:8080/",
          "height": 49
        },
        "id": "YyK4_-lQ-JRU",
        "outputId": "cc86846b-27cd-4fe2-e2d6-2b67217de6ed"
      },
      "source": [
        "non_annotated = non_annotated[manual_annotated.columns[:-1]]\n",
        "non_annotated"
      ],
      "execution_count": 32,
      "outputs": [
        {
          "output_type": "execute_result",
          "data": {
            "text/html": [
              "<div>\n",
              "<style scoped>\n",
              "    .dataframe tbody tr th:only-of-type {\n",
              "        vertical-align: middle;\n",
              "    }\n",
              "\n",
              "    .dataframe tbody tr th {\n",
              "        vertical-align: top;\n",
              "    }\n",
              "\n",
              "    .dataframe thead th {\n",
              "        text-align: right;\n",
              "    }\n",
              "</style>\n",
              "<table border=\"1\" class=\"dataframe\">\n",
              "  <thead>\n",
              "    <tr style=\"text-align: right;\">\n",
              "      <th></th>\n",
              "      <th>doi</th>\n",
              "      <th>doi_link</th>\n",
              "      <th>year</th>\n",
              "      <th>month</th>\n",
              "      <th>month_manual</th>\n",
              "      <th>title</th>\n",
              "      <th>relevant</th>\n",
              "      <th>extracted datasets</th>\n",
              "      <th>term</th>\n",
              "    </tr>\n",
              "  </thead>\n",
              "  <tbody>\n",
              "  </tbody>\n",
              "</table>\n",
              "</div>"
            ],
            "text/plain": [
              "Empty DataFrame\n",
              "Columns: [doi, doi_link, year, month, month_manual, title, relevant, extracted datasets, term]\n",
              "Index: []"
            ]
          },
          "metadata": {
            "tags": []
          },
          "execution_count": 32
        }
      ]
    },
    {
      "cell_type": "markdown",
      "metadata": {
        "id": "p3KTiHHLgqpy"
      },
      "source": [
        "#### Add all not yet annotated results to google doc\n",
        "(than annotate manually and rerun Notebook)"
      ]
    },
    {
      "cell_type": "code",
      "metadata": {
        "id": "ca4B4t-E-q9D"
      },
      "source": [
        "add_newfound = False\n",
        "\n",
        "if add_newfound:\n",
        "    gc = gspread.authorize(GoogleCredentials.get_application_default())\n",
        "    worksheet = gc.open('DatasetScraping').worksheet('PubmedPaper')\n",
        "    old_len = manual_annotated.shape[0]\n",
        "    for ix in range(non_annotated.shape[0]):\n",
        "        time.sleep(.5)\n",
        "        worksheet.insert_row([str(i) for i in non_annotated.iloc[ix].fillna('').values.tolist()], old_len+ix+2)"
      ],
      "execution_count": 33,
      "outputs": []
    },
    {
      "cell_type": "markdown",
      "metadata": {
        "id": "om9oGNjGhGdU"
      },
      "source": [
        "### Screening resuts\n",
        "ct (computer tomographie) and us (ultra sound) are mapped to nochestxraydata"
      ]
    },
    {
      "cell_type": "code",
      "metadata": {
        "colab": {
          "base_uri": "https://localhost:8080/"
        },
        "id": "NlUEwnJJBLg1",
        "outputId": "a490ec52-8d71-4a7a-ca02-186033a62a3a"
      },
      "source": [
        "(annotated.relevant\n",
        "    .replace('', 'PASSED')\n",
        "    .replace('nochestimagingdata', 'nochestxraydata')\n",
        "    .replace('ct', 'nochestxraydata')\n",
        "    .replace('us', 'nochestxraydata')\n",
        "    .value_counts()\n",
        ")"
      ],
      "execution_count": 34,
      "outputs": [
        {
          "output_type": "execute_result",
          "data": {
            "text/plain": [
              "PASSED             201\n",
              "nochestxraydata    190\n",
              "nocovid             10\n",
              "noenglish            2\n",
              "Name: relevant, dtype: int64"
            ]
          },
          "metadata": {
            "tags": []
          },
          "execution_count": 34
        }
      ]
    },
    {
      "cell_type": "code",
      "metadata": {
        "id": "Zaw3hlfiBLjP"
      },
      "source": [
        "chestxray_paper = annotated[annotated.relevant == '']"
      ],
      "execution_count": 35,
      "outputs": []
    },
    {
      "cell_type": "markdown",
      "metadata": {
        "id": "jBC4peWShmKe"
      },
      "source": [
        "### Dataset Extraction"
      ]
    },
    {
      "cell_type": "markdown",
      "metadata": {
        "id": "elCp8kDNhssD"
      },
      "source": [
        "Check if all screened paper are annotated with dataset id"
      ]
    },
    {
      "cell_type": "code",
      "metadata": {
        "colab": {
          "base_uri": "https://localhost:8080/",
          "height": 49
        },
        "id": "HTvES5ozvx80",
        "outputId": "90db3158-d6c0-4d28-a7e5-66e0a716e02e"
      },
      "source": [
        "chestxray_paper[chestxray_paper['extracted datasets'].str.len() == 0]"
      ],
      "execution_count": 36,
      "outputs": [
        {
          "output_type": "execute_result",
          "data": {
            "text/html": [
              "<div>\n",
              "<style scoped>\n",
              "    .dataframe tbody tr th:only-of-type {\n",
              "        vertical-align: middle;\n",
              "    }\n",
              "\n",
              "    .dataframe tbody tr th {\n",
              "        vertical-align: top;\n",
              "    }\n",
              "\n",
              "    .dataframe thead th {\n",
              "        text-align: right;\n",
              "    }\n",
              "</style>\n",
              "<table border=\"1\" class=\"dataframe\">\n",
              "  <thead>\n",
              "    <tr style=\"text-align: right;\">\n",
              "      <th></th>\n",
              "      <th>term</th>\n",
              "      <th>doi</th>\n",
              "      <th>title</th>\n",
              "      <th>status</th>\n",
              "      <th>PMID</th>\n",
              "      <th>year</th>\n",
              "      <th>month</th>\n",
              "      <th>datetype</th>\n",
              "      <th>doi_link</th>\n",
              "      <th>month_manual</th>\n",
              "      <th>relevant</th>\n",
              "      <th>extracted datasets</th>\n",
              "      <th>done</th>\n",
              "    </tr>\n",
              "  </thead>\n",
              "  <tbody>\n",
              "  </tbody>\n",
              "</table>\n",
              "</div>"
            ],
            "text/plain": [
              "Empty DataFrame\n",
              "Columns: [term, doi, title, status, PMID, year, month, datetype, doi_link, month_manual, relevant, extracted datasets, done]\n",
              "Index: []"
            ]
          },
          "metadata": {
            "tags": []
          },
          "execution_count": 36
        }
      ]
    },
    {
      "cell_type": "markdown",
      "metadata": {
        "id": "uxQvO-Qoh3wA"
      },
      "source": [
        "Extract the set of unique datasets\n",
        " * exclude private\n",
        " * exclude not_identified"
      ]
    },
    {
      "cell_type": "code",
      "metadata": {
        "id": "P4IR3Nj9whwb"
      },
      "source": [
        "all_datasets = sum(chestxray_paper['extracted datasets'].str.split(', ').to_list(), [])\n",
        "\n",
        "set_unique = pd.DataFrame(\n",
        "    collections.Counter([\n",
        "        i for i in all_datasets \n",
        "        if i and ('privat' not in i) and ('not_identified' not in i)\n",
        "    ]).most_common()\n",
        ")\n",
        "set_unique.columns = ['name', 'count']"
      ],
      "execution_count": 37,
      "outputs": []
    },
    {
      "cell_type": "code",
      "metadata": {
        "colab": {
          "base_uri": "https://localhost:8080/"
        },
        "id": "xtJBdofXil-B",
        "outputId": "91f5b429-55c2-4b27-ab70-6752f3e3db39"
      },
      "source": [
        "print(f'Found {len(all_datasets)} dataset references, containing {set_unique[\"count\"].sum()} public with {set_unique.shape[0]} thereof unique')"
      ],
      "execution_count": 38,
      "outputs": [
        {
          "output_type": "stream",
          "text": [
            "Found 512 dataset references, containing 463 public with 50 thereof unique\n"
          ],
          "name": "stdout"
        }
      ]
    },
    {
      "cell_type": "code",
      "metadata": {
        "id": "LJQZHbOERyB7",
        "colab": {
          "base_uri": "https://localhost:8080/"
        },
        "outputId": "cf32bcbd-0413-48c3-88a1-5cc7e727af96"
      },
      "source": [
        "print(f'{set_unique.shape[0]} unique datasets extracted')"
      ],
      "execution_count": 39,
      "outputs": [
        {
          "output_type": "stream",
          "text": [
            "50 unique datasets extracted\n"
          ],
          "name": "stdout"
        }
      ]
    },
    {
      "cell_type": "markdown",
      "metadata": {
        "id": "LzU4yskLiJfk"
      },
      "source": [
        "## Manual annotation of Dataset eligibility"
      ]
    },
    {
      "cell_type": "markdown",
      "metadata": {
        "id": "UUA0aHddiSPd"
      },
      "source": [
        "Load annotations"
      ]
    },
    {
      "cell_type": "code",
      "metadata": {
        "id": "267WgIx4U0q3"
      },
      "source": [
        "gc = gspread.authorize(GoogleCredentials.get_application_default())\n",
        "worksheet = gc.open('DatasetScraping').worksheet('PaperIdentifiedDatasets')\n",
        "\n",
        "rows = worksheet.get_all_values()\n",
        "datasets_eligibility = pd.DataFrame.from_records(rows[1:], columns=rows[0]) #rows, columns=['name', 'eligibility', 'origin'])"
      ],
      "execution_count": 52,
      "outputs": []
    },
    {
      "cell_type": "markdown",
      "metadata": {
        "id": "ucTzBZQMiV5e"
      },
      "source": [
        "Check if all datasets are annotated"
      ]
    },
    {
      "cell_type": "code",
      "metadata": {
        "id": "cNfGXE6pwFrr",
        "colab": {
          "base_uri": "https://localhost:8080/",
          "height": 49
        },
        "outputId": "cc328e73-e141-46a6-d6d3-16f5b11d47a6"
      },
      "source": [
        "is_anaylsed = pd.merge(set_unique, datasets_eligibility, on='name', how='left')\n",
        "is_anaylsed[is_anaylsed.eligibility.isnull()]"
      ],
      "execution_count": 53,
      "outputs": [
        {
          "output_type": "execute_result",
          "data": {
            "text/html": [
              "<div>\n",
              "<style scoped>\n",
              "    .dataframe tbody tr th:only-of-type {\n",
              "        vertical-align: middle;\n",
              "    }\n",
              "\n",
              "    .dataframe tbody tr th {\n",
              "        vertical-align: top;\n",
              "    }\n",
              "\n",
              "    .dataframe thead th {\n",
              "        text-align: right;\n",
              "    }\n",
              "</style>\n",
              "<table border=\"1\" class=\"dataframe\">\n",
              "  <thead>\n",
              "    <tr style=\"text-align: right;\">\n",
              "      <th></th>\n",
              "      <th>name</th>\n",
              "      <th>count</th>\n",
              "      <th>eligibility</th>\n",
              "      <th>paper_name</th>\n",
              "      <th>origin</th>\n",
              "    </tr>\n",
              "  </thead>\n",
              "  <tbody>\n",
              "  </tbody>\n",
              "</table>\n",
              "</div>"
            ],
            "text/plain": [
              "Empty DataFrame\n",
              "Columns: [name, count, eligibility, paper_name, origin]\n",
              "Index: []"
            ]
          },
          "metadata": {
            "tags": []
          },
          "execution_count": 53
        }
      ]
    },
    {
      "cell_type": "code",
      "metadata": {
        "colab": {
          "base_uri": "https://localhost:8080/"
        },
        "id": "3ImkH19Bi0hx",
        "outputId": "96e1c556-1133-4198-a8fc-1cde1e23103d"
      },
      "source": [
        "is_anaylsed.eligibility.replace('', 'ELIGIBLE').value_counts()"
      ],
      "execution_count": 54,
      "outputs": [
        {
          "output_type": "execute_result",
          "data": {
            "text/plain": [
              "remix             18\n",
              "nocovid           13\n",
              "casecollection    10\n",
              "ELIGIBLE           7\n",
              "noinfo             2\n",
              "Name: eligibility, dtype: int64"
            ]
          },
          "metadata": {
            "tags": []
          },
          "execution_count": 54
        }
      ]
    },
    {
      "cell_type": "code",
      "metadata": {
        "colab": {
          "base_uri": "https://localhost:8080/",
          "height": 269
        },
        "id": "-OJoPQ_Fi1lO",
        "outputId": "5d4e4c6f-f336-4898-ab2e-fc56a5231c55"
      },
      "source": [
        "is_anaylsed[is_anaylsed.eligibility == '']"
      ],
      "execution_count": 55,
      "outputs": [
        {
          "output_type": "execute_result",
          "data": {
            "text/html": [
              "<div>\n",
              "<style scoped>\n",
              "    .dataframe tbody tr th:only-of-type {\n",
              "        vertical-align: middle;\n",
              "    }\n",
              "\n",
              "    .dataframe tbody tr th {\n",
              "        vertical-align: top;\n",
              "    }\n",
              "\n",
              "    .dataframe thead th {\n",
              "        text-align: right;\n",
              "    }\n",
              "</style>\n",
              "<table border=\"1\" class=\"dataframe\">\n",
              "  <thead>\n",
              "    <tr style=\"text-align: right;\">\n",
              "      <th></th>\n",
              "      <th>name</th>\n",
              "      <th>count</th>\n",
              "      <th>eligibility</th>\n",
              "      <th>paper_name</th>\n",
              "      <th>origin</th>\n",
              "    </tr>\n",
              "  </thead>\n",
              "  <tbody>\n",
              "    <tr>\n",
              "      <th>9</th>\n",
              "      <td>actualmed</td>\n",
              "      <td>10</td>\n",
              "      <td></td>\n",
              "      <td>ACUTALMED</td>\n",
              "      <td>https://github.com/agchung/Actualmed-COVID-che...</td>\n",
              "    </tr>\n",
              "    <tr>\n",
              "      <th>21</th>\n",
              "      <td>bimcv</td>\n",
              "      <td>3</td>\n",
              "      <td></td>\n",
              "      <td>BIMCV-COVID19</td>\n",
              "      <td>https://bimcv.cipf.es/bimcv-projects/bimcv-cov...</td>\n",
              "    </tr>\n",
              "    <tr>\n",
              "      <th>27</th>\n",
              "      <td>mlhannover</td>\n",
              "      <td>2</td>\n",
              "      <td></td>\n",
              "      <td>ML HANNOVER</td>\n",
              "      <td>https://github.com/ml-workgroup/covid-19-image...</td>\n",
              "    </tr>\n",
              "    <tr>\n",
              "      <th>33</th>\n",
              "      <td>tcia_rural</td>\n",
              "      <td>1</td>\n",
              "      <td></td>\n",
              "      <td>COVID-19-AR</td>\n",
              "      <td>https://wiki.cancerimagingarchive.net/pages/vi...</td>\n",
              "    </tr>\n",
              "    <tr>\n",
              "      <th>38</th>\n",
              "      <td>covidgr</td>\n",
              "      <td>1</td>\n",
              "      <td></td>\n",
              "      <td>COVIDGR</td>\n",
              "      <td>https://dasci.es/transferencia/open-data/covid...</td>\n",
              "    </tr>\n",
              "    <tr>\n",
              "      <th>42</th>\n",
              "      <td>ricord</td>\n",
              "      <td>1</td>\n",
              "      <td></td>\n",
              "      <td>RICORD</td>\n",
              "      <td>https://wiki.cancerimagingarchive.net/pages/vi...</td>\n",
              "    </tr>\n",
              "    <tr>\n",
              "      <th>49</th>\n",
              "      <td>brixia</td>\n",
              "      <td>1</td>\n",
              "      <td></td>\n",
              "      <td>BRIXIA</td>\n",
              "      <td>https://brixia.github.io/</td>\n",
              "    </tr>\n",
              "  </tbody>\n",
              "</table>\n",
              "</div>"
            ],
            "text/plain": [
              "          name  ...                                             origin\n",
              "9    actualmed  ...  https://github.com/agchung/Actualmed-COVID-che...\n",
              "21       bimcv  ...  https://bimcv.cipf.es/bimcv-projects/bimcv-cov...\n",
              "27  mlhannover  ...  https://github.com/ml-workgroup/covid-19-image...\n",
              "33  tcia_rural  ...  https://wiki.cancerimagingarchive.net/pages/vi...\n",
              "38     covidgr  ...  https://dasci.es/transferencia/open-data/covid...\n",
              "42      ricord  ...  https://wiki.cancerimagingarchive.net/pages/vi...\n",
              "49      brixia  ...                          https://brixia.github.io/\n",
              "\n",
              "[7 rows x 5 columns]"
            ]
          },
          "metadata": {
            "tags": []
          },
          "execution_count": 55
        }
      ]
    },
    {
      "cell_type": "code",
      "metadata": {
        "id": "EcvVYwU4jXvU"
      },
      "source": [
        ""
      ],
      "execution_count": 47,
      "outputs": []
    }
  ]
}